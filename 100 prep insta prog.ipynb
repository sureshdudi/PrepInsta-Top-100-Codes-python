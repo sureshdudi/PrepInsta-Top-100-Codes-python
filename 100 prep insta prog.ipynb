{
 "cells": [
  {
   "cell_type": "markdown",
   "metadata": {},
   "source": [
    "\n",
    "https://prepinsta.com/top-100-codes/\n"
   ]
  },
  {
   "cell_type": "markdown",
   "metadata": {},
   "source": [
    "# PrepInsta Top 100 Codes"
   ]
  },
  {
   "cell_type": "code",
   "execution_count": null,
   "metadata": {},
   "outputs": [],
   "source": [
    "1.Positive or Negative number"
   ]
  },
  {
   "cell_type": "code",
   "execution_count": 3,
   "metadata": {},
   "outputs": [
    {
     "name": "stdout",
     "output_type": "stream",
     "text": [
      "5\n",
      "+ve\n"
     ]
    }
   ],
   "source": [
    "x = int(input())\n",
    "if x>=0:\n",
    "    print('+ve')\n",
    "else:\n",
    "    print('negative')"
   ]
  },
  {
   "cell_type": "markdown",
   "metadata": {},
   "source": [
    "2.Even or Odd number"
   ]
  },
  {
   "cell_type": "code",
   "execution_count": 5,
   "metadata": {},
   "outputs": [
    {
     "name": "stdout",
     "output_type": "stream",
     "text": [
      "5\n",
      "odd\n"
     ]
    }
   ],
   "source": [
    "x = int(input())\n",
    "if x%2==0:\n",
    "    print('even')\n",
    "else:\n",
    "    print('odd')"
   ]
  },
  {
   "cell_type": "markdown",
   "metadata": {},
   "source": [
    "3.Sum of First N Natural numbers"
   ]
  },
  {
   "cell_type": "code",
   "execution_count": 7,
   "metadata": {},
   "outputs": [
    {
     "name": "stdout",
     "output_type": "stream",
     "text": [
      "5\n"
     ]
    },
    {
     "data": {
      "text/plain": [
       "15.0"
      ]
     },
     "execution_count": 7,
     "metadata": {},
     "output_type": "execute_result"
    }
   ],
   "source": [
    "x = int(input())\n",
    "def s1(n):\n",
    "    return (n*(n+1))/2\n",
    "s1(x)"
   ]
  },
  {
   "cell_type": "markdown",
   "metadata": {},
   "source": [
    "4.Sum of N natural numbers"
   ]
  },
  {
   "cell_type": "code",
   "execution_count": 8,
   "metadata": {},
   "outputs": [
    {
     "name": "stdout",
     "output_type": "stream",
     "text": [
      "14\n"
     ]
    },
    {
     "data": {
      "text/plain": [
       "105.0"
      ]
     },
     "execution_count": 8,
     "metadata": {},
     "output_type": "execute_result"
    }
   ],
   "source": [
    "x = int(input())\n",
    "def s1(n):\n",
    "    return (n*(n+1))/2\n",
    "s1(x)"
   ]
  },
  {
   "cell_type": "markdown",
   "metadata": {},
   "source": [
    "5.sum of numbers in a given"
   ]
  },
  {
   "cell_type": "code",
   "execution_count": 17,
   "metadata": {},
   "outputs": [
    {
     "name": "stdout",
     "output_type": "stream",
     "text": [
      "1 10\n",
      "44\n"
     ]
    }
   ],
   "source": [
    "n1,n2 = [int(i) for i in input().split(' ')]\n",
    "\n",
    "def s2(n1,n2):\n",
    "    x1=0\n",
    "    for i in range(n1+1,n2):\n",
    "        x1 = x1+i\n",
    "    return x1\n",
    "print(s2(n1,n2))\n"
   ]
  },
  {
   "cell_type": "code",
   "execution_count": null,
   "metadata": {},
   "outputs": [],
   "source": [
    "6.Greatest of two numbers"
   ]
  },
  {
   "cell_type": "code",
   "execution_count": 21,
   "metadata": {},
   "outputs": [
    {
     "name": "stdout",
     "output_type": "stream",
     "text": [
      "5 4\n",
      "greater number:5\n"
     ]
    }
   ],
   "source": [
    "n1,n2 = [int(i) for i in input().split(' ')]\n",
    "if n1>n2:\n",
    "    print(\"greater number\"+\":\"+str(n1))\n",
    "else:\n",
    "    print(\"greater number\"+\":\",n2)\n",
    "    "
   ]
  },
  {
   "cell_type": "code",
   "execution_count": null,
   "metadata": {},
   "outputs": [],
   "source": [
    "7.Greatest of the Three numbers"
   ]
  },
  {
   "cell_type": "code",
   "execution_count": 27,
   "metadata": {},
   "outputs": [
    {
     "name": "stdout",
     "output_type": "stream",
     "text": [
      "963 852 741\n",
      "963\n"
     ]
    }
   ],
   "source": [
    "n1,n2,n3 = [int(i) for i in input().split(' ')]\n",
    "if n1>n2 and n1>n3:\n",
    "    print(n1)\n",
    "elif n2>n3 and n2>n1:\n",
    "    print(n2)\n",
    "else:\n",
    "    print(n3)\n",
    "\n"
   ]
  },
  {
   "cell_type": "markdown",
   "metadata": {},
   "source": [
    "8.Leap year or not"
   ]
  },
  {
   "cell_type": "code",
   "execution_count": 55,
   "metadata": {},
   "outputs": [
    {
     "name": "stdout",
     "output_type": "stream",
     "text": [
      "2020\n",
      "leap year: 2020\n"
     ]
    }
   ],
   "source": [
    "x = int(input())\n",
    "def ly(n):\n",
    "    if (n%4==0 and n%100!=0) or n%400==0:\n",
    "        return n\n",
    "if ly(x):\n",
    "    print(\"leap year:\",x)"
   ]
  },
  {
   "cell_type": "markdown",
   "metadata": {},
   "source": [
    "9.Prime number"
   ]
  },
  {
   "cell_type": "code",
   "execution_count": 63,
   "metadata": {},
   "outputs": [
    {
     "name": "stdout",
     "output_type": "stream",
     "text": [
      "582\n",
      "Not prime no\n"
     ]
    }
   ],
   "source": [
    "def pn(n):\n",
    "    c=0\n",
    "    for i in range(1,n//2+1):\n",
    "        if n%i==0:\n",
    "            c=c+1\n",
    "    if c==1:\n",
    "        return n\n",
    "x = int(input())\n",
    "if pn(x):\n",
    "    print(\"prime number: \",x)\n",
    "else:\n",
    "    print(\"Not prime no\")\n",
    "        \n",
    "    "
   ]
  },
  {
   "cell_type": "markdown",
   "metadata": {},
   "source": [
    "10.Prime number within a given range"
   ]
  },
  {
   "cell_type": "code",
   "execution_count": 65,
   "metadata": {},
   "outputs": [
    {
     "name": "stdout",
     "output_type": "stream",
     "text": [
      "1 100\n",
      "[2, 3, 5, 7, 11, 13, 17, 19, 23, 29, 31, 37, 41, 43, 47, 53, 59, 61, 67, 71, 73, 79, 83, 89, 97]\n",
      "25\n"
     ]
    }
   ],
   "source": [
    "def pn(n):\n",
    "    c=0\n",
    "    for i in range(1,n//2+1):\n",
    "        if n%i==0:\n",
    "            c=c+1\n",
    "    if c==1:\n",
    "        return n\n",
    "n1,n2 = [int(i) for i in input().split(' ')]\n",
    "n3 = []\n",
    "for i in range(n1,n2+1):\n",
    "    if pn(i):\n",
    "        n3.append(i)\n",
    "print(n3)\n",
    "print(len(n3))\n"
   ]
  },
  {
   "cell_type": "markdown",
   "metadata": {},
   "source": [
    "11.Sum of digits of a number"
   ]
  },
  {
   "cell_type": "code",
   "execution_count": 67,
   "metadata": {},
   "outputs": [
    {
     "name": "stdout",
     "output_type": "stream",
     "text": [
      "123\n",
      "6\n"
     ]
    }
   ],
   "source": [
    "x = input()\n",
    "l = 0\n",
    "for i in x:\n",
    "    l += int(i)\n",
    "print(l)\n",
    "    "
   ]
  },
  {
   "cell_type": "markdown",
   "metadata": {},
   "source": [
    "12.Reverse of a number"
   ]
  },
  {
   "cell_type": "code",
   "execution_count": 69,
   "metadata": {},
   "outputs": [
    {
     "name": "stdout",
     "output_type": "stream",
     "text": [
      "123\n",
      "321\n"
     ]
    }
   ],
   "source": [
    "x = input()\n",
    "print(x[::-1])"
   ]
  },
  {
   "cell_type": "markdown",
   "metadata": {},
   "source": [
    "13.Palindrome number"
   ]
  },
  {
   "cell_type": "code",
   "execution_count": 72,
   "metadata": {},
   "outputs": [
    {
     "name": "stdout",
     "output_type": "stream",
     "text": [
      "12321\n",
      "Palindrome\n"
     ]
    }
   ],
   "source": [
    "x = input()\n",
    "if x[::-1]==x:\n",
    "    print(\"Palindrome\")"
   ]
  },
  {
   "cell_type": "markdown",
   "metadata": {},
   "source": [
    "14.Armstrong number "
   ]
  },
  {
   "cell_type": "code",
   "execution_count": 2,
   "metadata": {},
   "outputs": [
    {
     "name": "stdout",
     "output_type": "stream",
     "text": [
      "153\n",
      "amstromg no :  153\n"
     ]
    }
   ],
   "source": [
    "def arm(n):\n",
    "    k = str(n)\n",
    "    l = 0\n",
    "    for i in k:\n",
    "        l += (int(i))**3\n",
    "    if l==n:\n",
    "        return n\n",
    "x = int(input())\n",
    "if arm(x):\n",
    "    print(\"amstromg no : \",x)\n"
   ]
  },
  {
   "cell_type": "markdown",
   "metadata": {},
   "source": [
    "15.\tArmstrong number in a given range "
   ]
  },
  {
   "cell_type": "code",
   "execution_count": 2,
   "metadata": {},
   "outputs": [
    {
     "name": "stdout",
     "output_type": "stream",
     "text": [
      "1,1000\n",
      "1 1000\n",
      "[1, 153, 370, 371, 407]\n",
      "5\n"
     ]
    }
   ],
   "source": [
    "def arm(n1):\n",
    "    k = str(n1)\n",
    "    l = 0\n",
    "    for i in k:\n",
    "        l = l + (int(i))**3\n",
    "    if l==n1:\n",
    "        return n1\n",
    "n1,n2 = [int(i) for i in input().split(',')]\n",
    "n3 = []\n",
    "print(n1,n2)\n",
    "for i in range(n1,n2+1):\n",
    "    if arm(i):\n",
    "        n3.append(i)\n",
    "print(n3)\n",
    "print(len(n3))\n"
   ]
  },
  {
   "cell_type": "markdown",
   "metadata": {},
   "source": [
    "16.\tFibonacci Series upto nth term "
   ]
  },
  {
   "cell_type": "code",
   "execution_count": 7,
   "metadata": {},
   "outputs": [
    {
     "data": {
      "text/plain": [
       "55"
      ]
     },
     "execution_count": 7,
     "metadata": {},
     "output_type": "execute_result"
    }
   ],
   "source": [
    "def fib(n):\n",
    "    if n<2:\n",
    "        return n\n",
    "    else:\n",
    "        return fib(n-1)+fib(n-2)\n",
    "fib(10)        "
   ]
  },
  {
   "cell_type": "code",
   "execution_count": 12,
   "metadata": {},
   "outputs": [
    {
     "name": "stdout",
     "output_type": "stream",
     "text": [
      "15\n",
      "[0, 1, 1, 2, 3, 5, 8, 13, 21, 34, 55, 89, 144, 233, 377]\n"
     ]
    }
   ],
   "source": [
    "def feb(n):\n",
    "    n1=0\n",
    "    n2=1\n",
    "    k= []\n",
    "    c=n\n",
    "    while c>0:\n",
    "        nth = n1+n2\n",
    "        k.append(n1)\n",
    "        n1=n2\n",
    "        n2=nth\n",
    "        c = c-1\n",
    "    return k\n",
    "x = int(input())\n",
    "print(feb(x))\n",
    "\n",
    "        \n",
    "        "
   ]
  },
  {
   "cell_type": "markdown",
   "metadata": {},
   "source": [
    "17.\tFactorial of a number "
   ]
  },
  {
   "cell_type": "code",
   "execution_count": 16,
   "metadata": {},
   "outputs": [
    {
     "name": "stdout",
     "output_type": "stream",
     "text": [
      "6\n",
      "720\n"
     ]
    }
   ],
   "source": [
    "def fac(n):\n",
    "    f = 1\n",
    "    for i in range(1,n+1):\n",
    "        f = f*i\n",
    "    return f\n",
    "x = int(input())\n",
    "print(fac(x))\n",
    "        \n",
    "        "
   ]
  },
  {
   "cell_type": "markdown",
   "metadata": {},
   "source": [
    "18.\tPower of a number "
   ]
  },
  {
   "cell_type": "code",
   "execution_count": 18,
   "metadata": {},
   "outputs": [
    {
     "name": "stdout",
     "output_type": "stream",
     "text": [
      "2 3\n",
      "8\n"
     ]
    }
   ],
   "source": [
    "n1,n2 = [int(i) for i in input().split(' ')]\n",
    "def pow(n1,n2):\n",
    "    k = n1**n2\n",
    "    return k\n",
    "print(pow(n1,n2))"
   ]
  },
  {
   "cell_type": "markdown",
   "metadata": {},
   "source": [
    "19.\tFactor of a number "
   ]
  },
  {
   "cell_type": "code",
   "execution_count": 72,
   "metadata": {},
   "outputs": [
    {
     "name": "stdout",
     "output_type": "stream",
     "text": [
      "72\n",
      "[1, 2, 3, 4, 6, 8, 9, 12, 18, 24, 36, 72]\n"
     ]
    }
   ],
   "source": [
    "def fac(n):\n",
    "    l=[]\n",
    "    for i in range(1,n+1):\n",
    "        if n%i==0:\n",
    "            l.append(i)\n",
    "    return l\n",
    "x=int(input())\n",
    "print(fac(x))"
   ]
  },
  {
   "cell_type": "markdown",
   "metadata": {},
   "source": [
    "20.\tStrong number "
   ]
  },
  {
   "cell_type": "code",
   "execution_count": 21,
   "metadata": {},
   "outputs": [
    {
     "name": "stdout",
     "output_type": "stream",
     "text": [
      "145\n",
      "strong\n"
     ]
    }
   ],
   "source": [
    "def fac(n):\n",
    "    f = 1\n",
    "    for i in range(1,n+1):\n",
    "        f = f*i\n",
    "    return f\n",
    "x = input()\n",
    "l = 0\n",
    "for i in x:\n",
    "    l += fac(int(i))\n",
    "if l==int(x):\n",
    "    print(\"strong\")\n",
    "    "
   ]
  },
  {
   "cell_type": "markdown",
   "metadata": {},
   "source": [
    "21.\tPerfect number "
   ]
  },
  {
   "cell_type": "code",
   "execution_count": 28,
   "metadata": {},
   "outputs": [
    {
     "name": "stdout",
     "output_type": "stream",
     "text": [
      "6\n",
      "perfect Number :  6\n"
     ]
    }
   ],
   "source": [
    "n = int(input())\n",
    "def fac(n):\n",
    "    l=[]\n",
    "    for i in range(1,n//2+1):\n",
    "        if n%i==0:\n",
    "            l.append(i)\n",
    "    return l\n",
    "if sum(fac(n))==n:\n",
    "    print(\"perfect Number : \",n)\n",
    "else:\n",
    "    print(\"not Perfect no\")\n",
    "            "
   ]
  },
  {
   "cell_type": "markdown",
   "metadata": {},
   "source": [
    "22.\tAutomorphic number "
   ]
  },
  {
   "cell_type": "code",
   "execution_count": 36,
   "metadata": {},
   "outputs": [
    {
     "name": "stdout",
     "output_type": "stream",
     "text": [
      "6\n",
      "Automorphic number \n"
     ]
    }
   ],
   "source": [
    "x = int(input())\n",
    "def aut(n):\n",
    "    s=0\n",
    "    s=n*n\n",
    "    if str(n) in str(s):\n",
    "        return n\n",
    "if aut(x):\n",
    "    print('Automorphic number ')\n",
    "else:\n",
    "    print(\"Not Automorphic number\")\n",
    "    \n"
   ]
  },
  {
   "cell_type": "markdown",
   "metadata": {},
   "source": [
    "23.\tHarshad number "
   ]
  },
  {
   "cell_type": "code",
   "execution_count": 45,
   "metadata": {},
   "outputs": [
    {
     "name": "stdout",
     "output_type": "stream",
     "text": [
      "54\n",
      "Harshad:  54\n"
     ]
    }
   ],
   "source": [
    "def har(n):\n",
    "    k = str(n)\n",
    "    s=0\n",
    "    for i in k:\n",
    "        s=s+int(i)\n",
    "    if n%s==0:\n",
    "        return n\n",
    "x=int(input())\n",
    "if har(x):\n",
    "    print(\"Harshad: \",x)\n",
    "        "
   ]
  },
  {
   "cell_type": "markdown",
   "metadata": {},
   "source": [
    "24.\tAbundant number "
   ]
  },
  {
   "cell_type": "code",
   "execution_count": 54,
   "metadata": {},
   "outputs": [
    {
     "name": "stdout",
     "output_type": "stream",
     "text": [
      "21\n",
      "not abundant\n"
     ]
    }
   ],
   "source": [
    "def fac(n):\n",
    "    l=[]\n",
    "    for i in range(1,n//2+1):\n",
    "        if n%i==0:\n",
    "            l.append(i)\n",
    "    return l\n",
    "x = int(input())\n",
    "if sum(fac(x))>x:\n",
    "    print(\"abundant number\")\n",
    "else:\n",
    "    print(\"not abundant\")"
   ]
  },
  {
   "cell_type": "markdown",
   "metadata": {},
   "source": [
    "25.\tFriendly pair "
   ]
  },
  {
   "cell_type": "code",
   "execution_count": 60,
   "metadata": {},
   "outputs": [
    {
     "name": "stdout",
     "output_type": "stream",
     "text": [
      "6 28\n",
      "friendly\n"
     ]
    }
   ],
   "source": [
    "def fac(n):\n",
    "    l=[]\n",
    "    for i in range(1,n+1):\n",
    "        if n%i==0:\n",
    "            l.append(i)\n",
    "    return (sum(l)/n)\n",
    "n1,n2 = [int(i) for i in input().split(' ')]\n",
    "if fac(n1)==fac(n2):\n",
    "    print(\"friendly\")\n",
    "else:\n",
    "    print(\"not friendly\")"
   ]
  },
  {
   "cell_type": "markdown",
   "metadata": {},
   "source": [
    "26.\tHighest Common Factor(HCF)"
   ]
  },
  {
   "cell_type": "code",
   "execution_count": 67,
   "metadata": {},
   "outputs": [
    {
     "name": "stdout",
     "output_type": "stream",
     "text": [
      "36 60\n",
      "12\n"
     ]
    }
   ],
   "source": [
    "n1,n2 = [int(i) for i in input().split(' ')]\n",
    "def hcff(n1,n2):\n",
    "    l=[]\n",
    "    for i in range(1,max(n1,n2)+1):\n",
    "        if (n1%i==0) and (n2%i==0):\n",
    "            l.append(i)\n",
    "    return max(l)\n",
    "print(hcff(n1,n2))"
   ]
  },
  {
   "cell_type": "markdown",
   "metadata": {},
   "source": [
    "27.\tLowest Common Multiple (LCM) "
   ]
  },
  {
   "cell_type": "code",
   "execution_count": 1,
   "metadata": {},
   "outputs": [],
   "source": [
    "import numpy as np"
   ]
  },
  {
   "cell_type": "code",
   "execution_count": 9,
   "metadata": {},
   "outputs": [
    {
     "name": "stdout",
     "output_type": "stream",
     "text": [
      "60 72\n",
      "72\n",
      "360\n"
     ]
    }
   ],
   "source": [
    "n1,n2 = [int(i) for i in input().split(' ')]\n",
    "def lcff(n1,n2):\n",
    "    l=[]\n",
    "    larger = max(n1,n2)\n",
    "    print(larger)\n",
    "    while True:\n",
    "        if larger%n1==0 and larger%n2==0:\n",
    "            lcm = larger\n",
    "            return lcm\n",
    "            break\n",
    "        larger = larger + max(n1,n2)\n",
    "print(lcff(n1,n2))"
   ]
  },
  {
   "cell_type": "markdown",
   "metadata": {},
   "source": [
    "28.\tGreatest Common Divisor "
   ]
  },
  {
   "cell_type": "code",
   "execution_count": 10,
   "metadata": {},
   "outputs": [
    {
     "name": "stdout",
     "output_type": "stream",
     "text": [
      "Enter First Number:5\n",
      "Enter Second Number:10\n",
      "GCD of two Number: 5\n"
     ]
    }
   ],
   "source": [
    "num1 = int(input(\"Enter First Number:\"))\n",
    "num2 = int(input(\"Enter Second Number:\"))\n",
    "\n",
    "\n",
    "def gcdFunction(num1, num2):\n",
    "    if num1 > num2:\n",
    "        small = num2\n",
    "    else:\n",
    "        small = num1\n",
    "    for i in range(1, small+1):\n",
    "        if (num1 % i == 0) and (num2 % i == 0):\n",
    "            gcd = i\n",
    "    print(\"GCD of two Number: {}\".format(gcd))\n",
    "\n",
    "gcdFunction(num1, num2)"
   ]
  },
  {
   "cell_type": "markdown",
   "metadata": {},
   "source": [
    "29.\tBinary to Decimal to conversion "
   ]
  },
  {
   "cell_type": "code",
   "execution_count": 38,
   "metadata": {},
   "outputs": [
    {
     "name": "stdout",
     "output_type": "stream",
     "text": [
      "111111\n",
      "63\n"
     ]
    }
   ],
   "source": [
    "x = input()\n",
    "def btd(s):\n",
    "    l = len(s)-1\n",
    "    sm = 0\n",
    "    for i in s:\n",
    "        k = int(i)\n",
    "        j = 2**(l)\n",
    "        sm = sm + k*j\n",
    "        l = l-1\n",
    "    return sm\n",
    "print(btd(x))    "
   ]
  },
  {
   "cell_type": "code",
   "execution_count": 45,
   "metadata": {},
   "outputs": [
    {
     "name": "stdout",
     "output_type": "stream",
     "text": [
      "1111\n",
      "15\n"
     ]
    }
   ],
   "source": [
    "x = input()\n",
    "print(int(x,2))"
   ]
  },
  {
   "cell_type": "markdown",
   "metadata": {},
   "source": [
    "30.\tBinary to Octal conversion "
   ]
  },
  {
   "cell_type": "code",
   "execution_count": 54,
   "metadata": {},
   "outputs": [
    {
     "name": "stdout",
     "output_type": "stream",
     "text": [
      "0o27\n"
     ]
    }
   ],
   "source": [
    "x = 0b10111\n",
    "print(oct(int(x)))"
   ]
  },
  {
   "cell_type": "markdown",
   "metadata": {},
   "source": [
    "31.\tDecimal to Binary conversion"
   ]
  },
  {
   "cell_type": "code",
   "execution_count": 58,
   "metadata": {},
   "outputs": [
    {
     "name": "stdout",
     "output_type": "stream",
     "text": [
      "15\n",
      "1111\n"
     ]
    }
   ],
   "source": [
    "x = int(input())\n",
    "print(bin(x).replace('0b',''))"
   ]
  },
  {
   "cell_type": "markdown",
   "metadata": {},
   "source": [
    "32.\tDecimal to octal Conversion\n"
   ]
  },
  {
   "cell_type": "code",
   "execution_count": 64,
   "metadata": {},
   "outputs": [
    {
     "name": "stdout",
     "output_type": "stream",
     "text": [
      "2\n",
      "0o2\n"
     ]
    }
   ],
   "source": [
    "x = int(input())\n",
    "print(oct(x))"
   ]
  },
  {
   "cell_type": "markdown",
   "metadata": {},
   "source": [
    "33.\tOctal to Binary conversion "
   ]
  },
  {
   "cell_type": "code",
   "execution_count": 65,
   "metadata": {},
   "outputs": [
    {
     "name": "stdout",
     "output_type": "stream",
     "text": [
      "0b101110100\n"
     ]
    }
   ],
   "source": [
    "oct_num = 0o564\n",
    "bin_num = bin(oct_num)\n",
    "print(str(bin_num))"
   ]
  },
  {
   "cell_type": "markdown",
   "metadata": {},
   "source": [
    "34.\tOctal to Decimal conversion \n"
   ]
  },
  {
   "cell_type": "code",
   "execution_count": 70,
   "metadata": {},
   "outputs": [
    {
     "name": "stdout",
     "output_type": "stream",
     "text": [
      "330\n"
     ]
    }
   ],
   "source": [
    "x = 0o512\n",
    "print(int(x))"
   ]
  },
  {
   "cell_type": "markdown",
   "metadata": {},
   "source": [
    "35.\tQuadrants in which a given coordinate lies \n"
   ]
  },
  {
   "cell_type": "code",
   "execution_count": 71,
   "metadata": {},
   "outputs": [
    {
     "name": "stdout",
     "output_type": "stream",
     "text": [
      "4 -2\n",
      "Fourth quadrant\n"
     ]
    }
   ],
   "source": [
    "X,Y = [int(i) for i in input().split(' ')]\n",
    "if X > 0 and Y > 0:\n",
    "    print(' First quadrant')\n",
    "elif X < 0 and Y > 0:\n",
    "    print('Second quadrant')\n",
    "elif X < 0 and Y < 0:\n",
    "    print('Third quadrant')\n",
    "elif X > 0 and Y < 0:\n",
    "    print('Fourth quadrant')\n",
    "else: \n",
    "    print('Origin')"
   ]
  },
  {
   "cell_type": "markdown",
   "metadata": {},
   "source": [
    "36.\tPermutations in which n people can occupy r seats in a classroom \n"
   ]
  },
  {
   "cell_type": "code",
   "execution_count": 73,
   "metadata": {},
   "outputs": [
    {
     "name": "stdout",
     "output_type": "stream",
     "text": [
      "10 6\n",
      "151200.0\n"
     ]
    }
   ],
   "source": [
    "def fact(n):\n",
    "    f = 1\n",
    "    for i in range(1,n+1):\n",
    "        f = f*i\n",
    "    return f\n",
    "n,r = [int(i) for i in input().split(' ')]\n",
    "result = fact(n)/fact(n-r)\n",
    "print(result)"
   ]
  },
  {
   "cell_type": "markdown",
   "metadata": {},
   "source": [
    "37.\tMaximum number of handshakes"
   ]
  },
  {
   "cell_type": "code",
   "execution_count": 74,
   "metadata": {},
   "outputs": [
    {
     "name": "stdout",
     "output_type": "stream",
     "text": [
      "30\n",
      "435.0\n"
     ]
    }
   ],
   "source": [
    "n = int(input())\n",
    "print(n*(n-1)/2)"
   ]
  },
  {
   "cell_type": "markdown",
   "metadata": {},
   "source": [
    "38.\tAddition of two fractions"
   ]
  },
  {
   "cell_type": "code",
   "execution_count": 97,
   "metadata": {},
   "outputs": [
    {
     "name": "stdout",
     "output_type": "stream",
     "text": [
      "14 21 10 3\n",
      "42.0 / 5.0\n"
     ]
    }
   ],
   "source": [
    "n1,n2,d1,d2=[int(i) for i in input().split(' ')]\n",
    "d = d1*d2\n",
    "n = (d2*n1)+(d1*n2)\n",
    "#print(d,n)\n",
    "l = []\n",
    "for i in range(1,max(d,n)//2+1):\n",
    "    if d%i==0 and n%i==0:\n",
    "        l.append(i)\n",
    "k = max(l)\n",
    "#print(k)\n",
    "d = d/k\n",
    "n = n/k\n",
    "#print(d,n)\n",
    "print(n,'/',d)\n",
    "    \n"
   ]
  },
  {
   "cell_type": "markdown",
   "metadata": {},
   "source": [
    "39.\tReplace all 0’s with 1 in a given integer \n"
   ]
  },
  {
   "cell_type": "code",
   "execution_count": 76,
   "metadata": {},
   "outputs": [
    {
     "name": "stdout",
     "output_type": "stream",
     "text": [
      "10000000000000000\n"
     ]
    },
    {
     "data": {
      "text/plain": [
       "'11111111111111111'"
      ]
     },
     "execution_count": 76,
     "metadata": {},
     "output_type": "execute_result"
    }
   ],
   "source": [
    "x = input()\n",
    "x.replace('0','1')"
   ]
  },
  {
   "cell_type": "markdown",
   "metadata": {},
   "source": [
    "40.\tCan a number be expressed as a sum of two prime numbers  \n"
   ]
  },
  {
   "cell_type": "code",
   "execution_count": 107,
   "metadata": {},
   "outputs": [
    {
     "name": "stdout",
     "output_type": "stream",
     "text": [
      "30\n",
      "[1, 2, 3, 5, 7, 11, 13, 17, 19, 23, 29]\n",
      "yes 1 + 29 = 30\n",
      "yes 7 + 23 = 30\n",
      "yes 11 + 19 = 30\n",
      "yes 13 + 17 = 30\n",
      "yes 17 + 13 = 30\n",
      "yes 19 + 11 = 30\n",
      "yes 23 + 7 = 30\n",
      "yes 29 + 1 = 30\n"
     ]
    }
   ],
   "source": [
    "x = int(input())\n",
    "def pm(n):\n",
    "    c=0\n",
    "    for i in range(2,n//2+1):\n",
    "        if n%i==0:\n",
    "            c+=1\n",
    "    if c==0:\n",
    "        return n\n",
    "l=[]\n",
    "for i in range(1,x):\n",
    "    if pm(i):\n",
    "        l.append(i)\n",
    "print(l)\n",
    "# for i in range(len(l)+1):\n",
    "#     for j in range(i+1,len(l)):\n",
    "#         if l[i]+l[j]==x:\n",
    "#             print('yes',l[i],'+',l[j],'=',x)\n",
    "\n",
    "for i in l:\n",
    "    for j in l:\n",
    "        if i+j==x:\n",
    "            print('yes',i,'+',j,'=',x)\n"
   ]
  },
  {
   "cell_type": "markdown",
   "metadata": {},
   "source": [
    "42.\tCheck whether a character is a vowel or consonant  \n"
   ]
  },
  {
   "cell_type": "code",
   "execution_count": 93,
   "metadata": {},
   "outputs": [
    {
     "name": "stdout",
     "output_type": "stream",
     "text": [
      "a\n",
      "Vowel\n"
     ]
    }
   ],
   "source": [
    "vowels = ['a','e','i','o','u','A','E','I','O','U']\n",
    "x = input()\n",
    "if x in vowels:\n",
    "    print('Vowel')\n",
    "else:\n",
    "    print('Consonant')"
   ]
  },
  {
   "cell_type": "markdown",
   "metadata": {},
   "source": [
    "43.\tCheck whether a character is a alphabet or not \n"
   ]
  },
  {
   "cell_type": "code",
   "execution_count": 91,
   "metadata": {},
   "outputs": [
    {
     "name": "stdout",
     "output_type": "stream",
     "text": [
      "g\n",
      "albhabet\n"
     ]
    }
   ],
   "source": [
    "x = input()\n",
    "k = ord(x)\n",
    "if(65<=k<=90) or (97<=k<=122):\n",
    "    print('albhabet')\n",
    "else:\n",
    "    print('not alphabet')"
   ]
  },
  {
   "cell_type": "markdown",
   "metadata": {},
   "source": [
    "44.\tCalculate the area of a circle \n"
   ]
  },
  {
   "cell_type": "code",
   "execution_count": 78,
   "metadata": {},
   "outputs": [
    {
     "name": "stdout",
     "output_type": "stream",
     "text": [
      "enter radius5\n",
      "78.5\n"
     ]
    }
   ],
   "source": [
    "r = int(input('enter radius'))\n",
    "area = 3.14*r*r\n",
    "print(area)"
   ]
  },
  {
   "cell_type": "markdown",
   "metadata": {},
   "source": [
    "45.\tFind the ASCII value of a character \n"
   ]
  },
  {
   "cell_type": "code",
   "execution_count": 109,
   "metadata": {},
   "outputs": [
    {
     "name": "stdout",
     "output_type": "stream",
     "text": [
      "a\n",
      "97\n"
     ]
    }
   ],
   "source": [
    "x = input()\n",
    "print(ord(x))"
   ]
  },
  {
   "cell_type": "markdown",
   "metadata": {},
   "source": [
    "46.\tFind the prime numbers between 1 to 100 \n"
   ]
  },
  {
   "cell_type": "code",
   "execution_count": 83,
   "metadata": {},
   "outputs": [
    {
     "name": "stdout",
     "output_type": "stream",
     "text": [
      "[2, 3, 5, 7, 11, 13, 17, 19, 23, 29, 31, 37, 41, 43, 47, 53, 59, 61, 67, 71, 73, 79, 83, 89, 97]\n",
      "25\n"
     ]
    }
   ],
   "source": [
    "def pm(n):\n",
    "    c=0\n",
    "    for i in range(2,n//2+1):\n",
    "        if n%i==0:\n",
    "            c+=1\n",
    "    if c==0:\n",
    "        return n\n",
    "l = []\n",
    "for i in range(2,100):\n",
    "    if pm(i):\n",
    "        l.append(i)\n",
    "print(l)\n",
    "print(len(l))\n",
    "            \n",
    "            "
   ]
  },
  {
   "cell_type": "markdown",
   "metadata": {},
   "source": [
    "47.\tCalculate the number of digits in an integer \n"
   ]
  },
  {
   "cell_type": "code",
   "execution_count": 77,
   "metadata": {},
   "outputs": [
    {
     "name": "stdout",
     "output_type": "stream",
     "text": [
      "153\n",
      "3\n"
     ]
    }
   ],
   "source": [
    "x = input()\n",
    "print(len(x))"
   ]
  },
  {
   "cell_type": "markdown",
   "metadata": {},
   "source": [
    "48.\tConvert digit/number to words \n"
   ]
  },
  {
   "cell_type": "code",
   "execution_count": 5,
   "metadata": {},
   "outputs": [
    {
     "name": "stdout",
     "output_type": "stream",
     "text": [
      "1223\n",
      "two  hundred  twenty   three\n",
      "one thousand  two  hundred  twenty   three\n"
     ]
    }
   ],
   "source": [
    "def digits(n):\n",
    "    l = []\n",
    "    for i in str(n):\n",
    "        l.append(int(i))\n",
    "    return l\n",
    "\n",
    "x= input()\n",
    "\n",
    "ones_digits = [\"\", \"one\", \"two\", \"three\", \"four\", \"five\", \"six\", \"seven\", \"eight\", \"nine\"]; \n",
    "tens_digits = [\"\", \"ten\", \"eleven\", \"twelve\", \"thirteen\", \"fourteen\", \"fifteen\", \"sixteen\", \"seventeen\", \"eighteen\",\"nineteen\"]; \n",
    "multiple_of_ten = [\"\", \"\", \"twenty\", \"thirty\", \"forty\", \"fifty\", \"sixty\", \"seventy\", \"eighty\", \"ninety\"]; \n",
    "power_of_ten = [\"hundred\", \"thousand\"];\n",
    "def onedig(x):\n",
    "    return [ones_digits[int(x)]]\n",
    "def twodig(x):\n",
    "    if 10<=int(x)<=19:\n",
    "        k = digits(int(x))\n",
    "        return [tens_digits[k[1]+1]]\n",
    "    elif 20<=int(x)<=99:\n",
    "        k = digits(int(x))\n",
    "        return [multiple_of_ten[k[0]],' ',ones_digits[k[1]]]\n",
    "def threedig(x):\n",
    "    if int(x)==100:\n",
    "        return ['hundred']\n",
    "    elif 100<int(x)<=999:\n",
    "        k = digits(int(x))\n",
    "#         print(k)\n",
    "        j = int(str(k[1])+str(k[2]))\n",
    "        td=twodig(j)\n",
    "        sd = ' '.join(td)\n",
    "        print(ones_digits[k[0]],' hundred ',sd)\n",
    "    return [ones_digits[k[0]],' hundred ',sd]\n",
    "\n",
    "def fourdig(x):\n",
    "    if int(x)==1000:\n",
    "        return ['thousand']\n",
    "    elif 1000<int(x)<=9999:\n",
    "        k = digits(int(x))\n",
    "#         print(k)\n",
    "        j = int(str(k[1])+str(k[2])+str(k[3]))\n",
    "        td=threedig(j)\n",
    "        sd = ' '.join(td)\n",
    "        print(ones_digits[k[0]],'thousand ',sd)\n",
    "\n",
    "\n",
    "if len(x)==1:\n",
    "    od=twodig(x)\n",
    "    pd = ' '.join(pd)\n",
    "    print(pd)\n",
    "\n",
    "if len(x)==2:\n",
    "    td=twodig(x)\n",
    "    sd = ' '.join(td)\n",
    "    print(sd)\n",
    "if len(x)==3:\n",
    "    threedig(x)\n",
    "if len(x)==4:\n",
    "    fd=fourdig(x)\n",
    "    \n",
    "        \n"
   ]
  },
  {
   "cell_type": "markdown",
   "metadata": {},
   "source": [
    "49.\tCounting number of days in a given month of a year "
   ]
  },
  {
   "cell_type": "code",
   "execution_count": 20,
   "metadata": {},
   "outputs": [
    {
     "name": "stdout",
     "output_type": "stream",
     "text": [
      "apr\n",
      "2021\n",
      "30\n"
     ]
    }
   ],
   "source": [
    "d = {'jan':31,'feb':28,'mar':31,'apr':30,'may':31,'jun':30,'july':31,'aug':31,'sep':30,'oct':31,'nov':30,'dec':31}\n",
    "def lp(n):\n",
    "    if (n%4==0) and (n%100!=0):\n",
    "        return n\n",
    "    elif n%400==0:\n",
    "        return n\n",
    "month = input()\n",
    "year = int(input())\n",
    "if lp(year):\n",
    "    if month == 'feb':\n",
    "        print('no of days=29')\n",
    "    else:\n",
    "        print(d.get(month))\n",
    "        \n",
    "else:\n",
    "    print(d.get(month))\n",
    "    "
   ]
  },
  {
   "cell_type": "markdown",
   "metadata": {},
   "source": [
    "50.\tFinding Number of times x digit occurs in a given input  \n"
   ]
  },
  {
   "cell_type": "code",
   "execution_count": 24,
   "metadata": {},
   "outputs": [
    {
     "name": "stdout",
     "output_type": "stream",
     "text": [
      "enter integer:8\n",
      "input:8498588884598\n",
      "Number of times x digit occurs 7\n"
     ]
    }
   ],
   "source": [
    "n1 = input('enter integer:')\n",
    "n2 = input('input:')\n",
    "print('Number of times x digit occurs',n2.count(n1))"
   ]
  },
  {
   "cell_type": "code",
   "execution_count": null,
   "metadata": {},
   "outputs": [],
   "source": [
    "51.\tFinding number of integers which has exactly x divisors \n"
   ]
  },
  {
   "cell_type": "code",
   "execution_count": 27,
   "metadata": {},
   "outputs": [
    {
     "name": "stdout",
     "output_type": "stream",
     "text": [
      "30\n",
      "3\n",
      "[4, 9, 25]\n"
     ]
    }
   ],
   "source": [
    "n = int(input())\n",
    "nod = int(input())\n",
    "def div(n):\n",
    "    l=[]\n",
    "    for i in range(1,n+1):\n",
    "        if n%i==0:\n",
    "            l.append(i)\n",
    "    if len(l)==3:\n",
    "        return n\n",
    "p = []  \n",
    "for i in range(0,n+1):\n",
    "    if div(i):\n",
    "        p.append(i)\n",
    "print(p)\n",
    "    "
   ]
  },
  {
   "cell_type": "markdown",
   "metadata": {},
   "source": [
    "52.\tFinding Roots of a quadratic equation \n"
   ]
  },
  {
   "cell_type": "code",
   "execution_count": 29,
   "metadata": {},
   "outputs": [
    {
     "name": "stdout",
     "output_type": "stream",
     "text": [
      "Enter value of a :4\n",
      "Enter value of b :5\n",
      "Enter value of c :6\n",
      "No Real Root\n",
      "-0.625  + i 8.426149773176359\n",
      "-0.625  - i 8.426149773176359\n"
     ]
    }
   ],
   "source": [
    "import math\n",
    "#take user inputs\n",
    "a = int(input('Enter value of a :'))\n",
    "b = int(input('Enter value of b :'))\n",
    "c = int(input('Enter value of c :'))\n",
    "#check for value of a\n",
    "if a == 0: \n",
    "    print(\"a cannot be zero\") \n",
    "#if a is greater than 0\n",
    "else:\n",
    "    #calculate value of Function\n",
    "    val = b**2 - 4 * a * c \n",
    "    root = math.sqrt(abs(val)) \n",
    "    #Check for roots and print according to their nature\n",
    "    if val > 0: \n",
    "        print(\"Two Real Roots\") \n",
    "        print((-b + root)/(2 * a)) \n",
    "        print((-b - root)/(2 * a)) \n",
    "    elif val == 0: \n",
    "        print(\"One Real Root\") \n",
    "        print(-b / (2*a)) \n",
    "    else: \n",
    "        print(\"No Real Root\") \n",
    "        print(- b / (2*a) , \" + i\", root) \n",
    "        print(- b / (2*a) , \" - i\", root)"
   ]
  },
  {
   "cell_type": "markdown",
   "metadata": {},
   "source": [
    "#  Important Codes related to Arrays"
   ]
  },
  {
   "cell_type": "markdown",
   "metadata": {},
   "source": [
    "53.\tFind Smallest Element in an Array \n"
   ]
  },
  {
   "cell_type": "markdown",
   "metadata": {},
   "source": [
    "54.\tFind Second Smallest Element in an Array \n"
   ]
  },
  {
   "cell_type": "markdown",
   "metadata": {},
   "source": [
    "55.\tFind Largest element in an array \n"
   ]
  },
  {
   "cell_type": "markdown",
   "metadata": {},
   "source": [
    "56.\tFind the Smallest and largest element in an array  \n"
   ]
  },
  {
   "cell_type": "markdown",
   "metadata": {},
   "source": [
    "57.\tCalculate the sum of elements in an array \n"
   ]
  },
  {
   "cell_type": "code",
   "execution_count": null,
   "metadata": {},
   "outputs": [],
   "source": [
    "l = [int(i) for i in input().split(' ')]\n",
    "w = l\n",
    "l.sort()\n",
    "print(l)\n",
    "print('smallest:',l[0])\n",
    "print('largest:',l[-1])\n",
    "print('second largest:',l[1])\n",
    "print('Smallest and largest element',l[0],',',l[-1])\n",
    "print('sum',sum(l))"
   ]
  },
  {
   "cell_type": "code",
   "execution_count": 19,
   "metadata": {},
   "outputs": [
    {
     "name": "stdout",
     "output_type": "stream",
     "text": [
      "54 5612 26 6 55 1 22 1 54 51 45\n",
      "[1, 1, 6, 22, 26, 45, 51, 54, 54, 55, 5612]\n"
     ]
    }
   ],
   "source": [
    "l = [int(i) for i in input().split(' ')]\n",
    "def sortt(l):\n",
    "    for i in range(len(l)):\n",
    "        for j in range(i+1,len(l)):\n",
    "            if l[j]>l[i]:\n",
    "                l[i],l[j]=l[j],l[i]\n",
    "    return l[::-1]\n",
    "print(sortt(l))"
   ]
  },
  {
   "cell_type": "markdown",
   "metadata": {},
   "source": [
    "58.\tReverse an Array \n"
   ]
  },
  {
   "cell_type": "code",
   "execution_count": 12,
   "metadata": {},
   "outputs": [
    {
     "name": "stdout",
     "output_type": "stream",
     "text": [
      "41 521 4 51 51 51 5 2\n",
      "reverse [2, 5, 51, 51, 51, 4, 521, 41]\n"
     ]
    }
   ],
   "source": [
    "l = [int(i) for i in input().split(' ')]\n",
    "print('reverse',l[::-1])"
   ]
  },
  {
   "cell_type": "code",
   "execution_count": 8,
   "metadata": {},
   "outputs": [
    {
     "name": "stdout",
     "output_type": "stream",
     "text": [
      "12 2 52 54\n",
      "None\n"
     ]
    }
   ],
   "source": [
    "l1 = [int(i) for i in input().split(' ')]\n",
    "l = l1.sort()\n",
    "print(l)"
   ]
  },
  {
   "cell_type": "markdown",
   "metadata": {},
   "source": [
    "59.\tSort first half in ascending order and second half in descending \n"
   ]
  },
  {
   "cell_type": "code",
   "execution_count": 6,
   "metadata": {
    "scrolled": true
   },
   "outputs": [
    {
     "name": "stdout",
     "output_type": "stream",
     "text": [
      "3 2 5 4 1 56 4 7\n",
      "[3, 2, 5, 4] [1, 56, 4, 7]\n",
      "[2, 3, 4, 5, 56, 7, 4, 1]\n"
     ]
    }
   ],
   "source": [
    "l = [int(i) for i in input().split(' ')]\n",
    "if len(l)%2==0:\n",
    "    fh = l[0:len(l)//2]\n",
    "    sh = l[len(l)//2:]\n",
    "if len(l)%2!=0:\n",
    "    fh = l[0:len(l)//2+1]\n",
    "    sh = l[len(l)//2+1:]\n",
    "print(fh,sh)\n",
    "sh.sort(reverse=True)\n",
    "fh.sort()\n",
    "h = fh+sh\n",
    "print(h)\n"
   ]
  },
  {
   "cell_type": "markdown",
   "metadata": {},
   "source": [
    "60.\tSort the elements of an array \n"
   ]
  },
  {
   "cell_type": "code",
   "execution_count": 8,
   "metadata": {},
   "outputs": [
    {
     "name": "stdout",
     "output_type": "stream",
     "text": [
      "562 652 62 65 23 3 1\n",
      "[1, 3, 23, 62, 65, 562, 652]\n"
     ]
    }
   ],
   "source": [
    "l = [int(i) for i in input().split(' ')]\n",
    "l.sort()\n",
    "print(l)"
   ]
  },
  {
   "cell_type": "markdown",
   "metadata": {},
   "source": [
    "61.\tFinding the frequency of elements in an array \n"
   ]
  },
  {
   "cell_type": "code",
   "execution_count": 9,
   "metadata": {},
   "outputs": [
    {
     "name": "stdout",
     "output_type": "stream",
     "text": [
      "0 1 2 5 2 66 3 5 5 2 5 2 5 4 5 552 6 6 1 4 1 1\n",
      "{0: 1, 1: 4, 2: 4, 5: 6, 66: 1, 3: 1, 4: 2, 552: 1, 6: 2}\n"
     ]
    }
   ],
   "source": [
    "l = [int(i) for i in input().split(' ')]\n",
    "d = dict()\n",
    "for i in l:\n",
    "    d[i]=l.count(i)\n",
    "print(d)"
   ]
  },
  {
   "cell_type": "code",
   "execution_count": 15,
   "metadata": {},
   "outputs": [
    {
     "name": "stdout",
     "output_type": "stream",
     "text": [
      "1 2 1 21 2 1 2 1 2 2\n",
      "[[1, 4], [2, 5], [21, 1]]\n"
     ]
    }
   ],
   "source": [
    "l = [int(i) for i in input().split(' ')]\n",
    "h = []\n",
    "d = []\n",
    "for i in l:\n",
    "    if i not in d: \n",
    "        k = []\n",
    "        k.append(i)\n",
    "        k.append(l.count(i))\n",
    "        h.append(k)\n",
    "        d.append(i)\n",
    "print((h))"
   ]
  },
  {
   "cell_type": "markdown",
   "metadata": {},
   "source": [
    "62.\tFinding the Longest Palindrome in an Array \n"
   ]
  },
  {
   "cell_type": "code",
   "execution_count": 1,
   "metadata": {},
   "outputs": [
    {
     "name": "stdout",
     "output_type": "stream",
     "text": [
      "ENTER ARRAY SIZE 5\n",
      "123321\n",
      "456654\n",
      "123321\n",
      "852258\n",
      "159951\n",
      "biggest palindrome: 852258\n"
     ]
    }
   ],
   "source": [
    "n=int(input(\"ENTER ARRAY SIZE \"))\n",
    "arr=[ ]\n",
    "for i in range(n):\n",
    "    element=int(input())\n",
    "    arr.append(element)\n",
    "    arr.sort(reverse=True)\n",
    "for i in arr:\n",
    "    if str(i) == str(i)[::-1]:\n",
    "        print('biggest palindrome:',i)\n",
    "        break\n"
   ]
  },
  {
   "cell_type": "markdown",
   "metadata": {},
   "source": [
    "63.\tCounting Distinct Elements in an Array \n"
   ]
  },
  {
   "cell_type": "code",
   "execution_count": 3,
   "metadata": {},
   "outputs": [
    {
     "name": "stdout",
     "output_type": "stream",
     "text": [
      "1 2 5 2 3 6 45 12 5 2 6 2 3 6 5 2 3 5 2 2 5 2 2 21 22 2\n",
      "9 {1: 1, 2: 10, 5: 5, 3: 3, 6: 3, 45: 1, 12: 1, 21: 1, 22: 1}\n"
     ]
    }
   ],
   "source": [
    "l = [int(i) for i in input().split(' ')]\n",
    "d = dict()\n",
    "for i in l:\n",
    "    d[i]=l.count(i)\n",
    "print(len(d),d)"
   ]
  },
  {
   "cell_type": "markdown",
   "metadata": {},
   "source": [
    "64.\tFinding Repeating elements in an Array \n"
   ]
  },
  {
   "cell_type": "code",
   "execution_count": 5,
   "metadata": {},
   "outputs": [
    {
     "name": "stdout",
     "output_type": "stream",
     "text": [
      "1 2 52 2 2 52 3 5 0 3 0 3 1 2 3 51 2 65 2 2 2 2 1 0 2 1\n",
      "{0, 1, 2, 3, 52}\n"
     ]
    }
   ],
   "source": [
    "l = [int(i) for i in input().split(' ')]\n",
    "k=[]\n",
    "for i in l:\n",
    "    if l.count(i)>1:\n",
    "        k.append(i)\n",
    "print(set(k))"
   ]
  },
  {
   "cell_type": "markdown",
   "metadata": {},
   "source": [
    "65.\tFinding Non Repeating elements in an Array \n"
   ]
  },
  {
   "cell_type": "code",
   "execution_count": 6,
   "metadata": {},
   "outputs": [
    {
     "name": "stdout",
     "output_type": "stream",
     "text": [
      "1 2 52 2 2 52 3 5 0 3 0 3 1 2 3 51 2 65 2 2 2 2 1 0 2 1\n",
      "{65, 51, 5}\n"
     ]
    }
   ],
   "source": [
    "l = [int(i) for i in input().split(' ')]\n",
    "k=[]\n",
    "for i in l:\n",
    "    if l.count(i)==1:\n",
    "        k.append(i)\n",
    "print(set(k))"
   ]
  },
  {
   "cell_type": "markdown",
   "metadata": {},
   "source": [
    "66.\tRemoving Duplicate elements from an array \n"
   ]
  },
  {
   "cell_type": "code",
   "execution_count": 8,
   "metadata": {},
   "outputs": [
    {
     "name": "stdout",
     "output_type": "stream",
     "text": [
      "1 2 52 2 2 52 3 5 0 3 0 3 1 2 3 51 2 65 2 2 2 2 1 0 2 1\n",
      "{0, 1, 2, 3, 65, 5, 51, 52}\n"
     ]
    }
   ],
   "source": [
    "l = [int(i) for i in input().split(' ')]\n",
    "print(set(l))"
   ]
  },
  {
   "cell_type": "markdown",
   "metadata": {},
   "source": [
    "67.\tFinding Minimum scalar product of two vectors \n"
   ]
  },
  {
   "cell_type": "code",
   "execution_count": 106,
   "metadata": {},
   "outputs": [
    {
     "name": "stdout",
     "output_type": "stream",
     "text": [
      "5 1 7 3 2\n",
      "5 1 2 6 2\n",
      "39\n"
     ]
    }
   ],
   "source": [
    "l = [int(i) for i in input().split(' ')]\n",
    "l1 = [int(i) for i in input().split(' ')]\n",
    "l.sort(reverse = True)\n",
    "l1.sort()\n",
    "s=0\n",
    "for i,j in zip(l,l1):\n",
    "    s += i*j\n",
    "#     print(i,j,s)\n",
    "print(s)"
   ]
  },
  {
   "cell_type": "markdown",
   "metadata": {},
   "source": [
    "68.\tFinding Maximum scalar product of two vectors in an array  \n"
   ]
  },
  {
   "cell_type": "code",
   "execution_count": 105,
   "metadata": {},
   "outputs": [
    {
     "name": "stdout",
     "output_type": "stream",
     "text": [
      "5 1 7 3 2\n",
      "5 1 2 6 2\n",
      "78\n"
     ]
    }
   ],
   "source": [
    "l = [int(i) for i in input().split(' ')]\n",
    "l1 = [int(i) for i in input().split(' ')]\n",
    "l.sort()\n",
    "l1.sort()\n",
    "s=0\n",
    "for i,j in zip(l,l1):\n",
    "    s += i*j\n",
    "#     print(i,j,s)\n",
    "print(s)"
   ]
  },
  {
   "cell_type": "markdown",
   "metadata": {},
   "source": [
    "69.\tCounting the number of even and odd elements in an array  \n"
   ]
  },
  {
   "cell_type": "code",
   "execution_count": 9,
   "metadata": {},
   "outputs": [
    {
     "name": "stdout",
     "output_type": "stream",
     "text": [
      "1 2 52 2 2 52 3 5 0 3 0 3 1 2 3 51 2 65 2 2 2 2 1 0 2 1\n",
      "15 11\n"
     ]
    }
   ],
   "source": [
    "l = [int(i) for i in input().split(' ')]\n",
    "even,odd = 0,0\n",
    "for i in l:\n",
    "    if i%2==0:\n",
    "        even += 1\n",
    "    else:\n",
    "        odd +=1\n",
    "print(even,odd)"
   ]
  },
  {
   "cell_type": "markdown",
   "metadata": {},
   "source": [
    "70.\tFind all Symmetric pairs in an array \n"
   ]
  },
  {
   "cell_type": "code",
   "execution_count": 23,
   "metadata": {},
   "outputs": [
    {
     "name": "stdout",
     "output_type": "stream",
     "text": [
      "enter no of pairs5\n",
      "1 2\n",
      "2 1\n",
      "5 1\n",
      "4 8\n",
      "3 5\n",
      "[[1, 2], [2, 1], [5, 1], [4, 8], [3, 5]]\n",
      "[1, 2] [2, 1]\n"
     ]
    }
   ],
   "source": [
    "n = int(input(\"enter no of pairs\"))\n",
    "l = []\n",
    "for i in range(0,n):\n",
    "#     j = [int(i) for i in input().split(' ')]\n",
    "#     l.append(j)\n",
    "    x,y = input().split(' ')\n",
    "    j = [int(x),int(y)]\n",
    "    l.append(j)\n",
    "print(l)\n",
    "k = [set(i) for i in l]\n",
    "print(*(i for i in l if k.count(set(i))==2))"
   ]
  },
  {
   "cell_type": "markdown",
   "metadata": {},
   "source": [
    "71.\tFind maximum product sub-array in a given array \n"
   ]
  },
  {
   "cell_type": "code",
   "execution_count": 4,
   "metadata": {},
   "outputs": [
    {
     "name": "stdout",
     "output_type": "stream",
     "text": [
      "-1 -3 -10 60 0\n",
      "1800\n"
     ]
    }
   ],
   "source": [
    "l = [int(i) for i in input().split(' ')]\n",
    "pos=[]\n",
    "neg=[]\n",
    "for i in l:\n",
    "    if i>0:\n",
    "        pos.append(i)\n",
    "    elif i<0:\n",
    "        neg.append(i)\n",
    "import numpy as np\n",
    "x = np.prod(pos)\n",
    "if len(neg)%2==0:\n",
    "    y = np.prod(neg)\n",
    "    print(x*y)\n",
    "else:\n",
    "    j = max(neg)\n",
    "    neg.remove(j)\n",
    "    y = np.prod(neg)\n",
    "    print(x*y)\n",
    "    "
   ]
  },
  {
   "cell_type": "markdown",
   "metadata": {},
   "source": [
    "72.\tFinding Arrays are disjoint or not \n"
   ]
  },
  {
   "cell_type": "code",
   "execution_count": 8,
   "metadata": {},
   "outputs": [
    {
     "name": "stdout",
     "output_type": "stream",
     "text": [
      "1 2 3 6\n",
      "5 4 7 8\n",
      "disjoint\n"
     ]
    }
   ],
   "source": [
    "l = [int(i) for i in input().split(' ')]\n",
    "l2 = [int(i) for i in input().split(' ')]\n",
    "if len(set(l+l2))== len(l)+len(l2):\n",
    "    print('disjoint')\n",
    "else:\n",
    "    print('not disjoint')"
   ]
  },
  {
   "cell_type": "markdown",
   "metadata": {},
   "source": [
    "73.\tDetermine Array is a subset of another array or not \n"
   ]
  },
  {
   "cell_type": "code",
   "execution_count": 14,
   "metadata": {},
   "outputs": [
    {
     "name": "stdout",
     "output_type": "stream",
     "text": [
      "1 2 3 4 5\n",
      "1 2 3\n",
      "subset\n"
     ]
    }
   ],
   "source": [
    "l1 = [int(i) for i in input().split(' ')]\n",
    "l2 = [int(i) for i in input().split(' ')]\n",
    "if any(i in l2 for i in l1):\n",
    "    print(\"subset\")\n",
    "else:\n",
    "    print(\"not subset\")"
   ]
  },
  {
   "cell_type": "markdown",
   "metadata": {},
   "source": [
    "74.\tDetermine can all numbers of an array be made equal \n"
   ]
  },
  {
   "cell_type": "code",
   "execution_count": 41,
   "metadata": {},
   "outputs": [
    {
     "name": "stdout",
     "output_type": "stream",
     "text": [
      "50 25 100\n",
      "can be made equal\n"
     ]
    }
   ],
   "source": [
    "l = [int(i) for i in input().split(' ')]\n",
    "c=[]\n",
    "for i in l:\n",
    "    while i%2==0:\n",
    "        i = i/2\n",
    "    while i%3==0:\n",
    "        i = i/3\n",
    "#     print(i)\n",
    "    c.append(i)\n",
    "# for i in range(0,len(c)):\n",
    "#     if c[i]!=c[0]:\n",
    "#         print(\"cannot be made equal\")\n",
    "#         break\n",
    "if len(set(c))==1:\n",
    "    print(\"can be made equal\")\n",
    "else:\n",
    "    print(\"can't made equal\")\n",
    "    "
   ]
  },
  {
   "cell_type": "markdown",
   "metadata": {},
   "source": [
    "75.\tFinding Minimum sum of absolute difference of given array \n"
   ]
  },
  {
   "cell_type": "code",
   "execution_count": 53,
   "metadata": {},
   "outputs": [
    {
     "name": "stdout",
     "output_type": "stream",
     "text": [
      "2 3 9 5 6\n",
      "10\n"
     ]
    }
   ],
   "source": [
    "l = list(map(int,input().split(' ')))\n",
    "l.sort()\n",
    "if len(l)%2!=0:\n",
    "    mean = l[len(l)//2]\n",
    "else:\n",
    "    mean = (l[len(l)//2-1]+l[len(l)//2])/2\n",
    "summ=0\n",
    "for i in l:\n",
    "    summ += abs(mean-i)\n",
    "print(summ)"
   ]
  },
  {
   "cell_type": "markdown",
   "metadata": {},
   "source": [
    "76.\tSorting elements of an array by frequency \n"
   ]
  },
  {
   "cell_type": "code",
   "execution_count": 80,
   "metadata": {},
   "outputs": [
    {
     "name": "stdout",
     "output_type": "stream",
     "text": [
      "3 3 3 3 2 2 2 2 2 1 1 11 11 1\n",
      "[11, 1, 3, 2]\n"
     ]
    }
   ],
   "source": [
    "l = list(map(int,input().split()))\n",
    "d = dict()\n",
    "for i in l:\n",
    "    d[i]=l.count(i)\n",
    "#print(d)\n",
    "u = (sorted(d.items(),key = lambda a : a[1]))\n",
    "#print(u)\n",
    "j =(list(zip(*u))[0])\n",
    "print(list(j))"
   ]
  },
  {
   "cell_type": "markdown",
   "metadata": {},
   "source": [
    "\n",
    "77.\tSort an array according to the order defined by another array  "
   ]
  },
  {
   "cell_type": "code",
   "execution_count": 96,
   "metadata": {},
   "outputs": [
    {
     "name": "stdout",
     "output_type": "stream",
     "text": [
      "1 2 1 2 12 1 2 1 2 2 1 3 25\n",
      "3 1 2 25\n",
      "[12]\n",
      "[3, 1, 1, 1, 1, 1, 2, 2, 2, 2, 2, 25, 12]\n"
     ]
    }
   ],
   "source": [
    "l = list(map(int,input().split()))\n",
    "l2= [int(i) for i in input().split(' ')]\n",
    "o = []\n",
    "h = []\n",
    "p  = []\n",
    "for i in l:\n",
    "    if i not in l2:\n",
    "        p.append(i)\n",
    "    \n",
    "for i in l2:\n",
    "    if i in l:\n",
    "        if i not in o:\n",
    "            j = l.count(i)\n",
    "#             for k in range(j):\n",
    "            h.extend([i for k in range(j)])\n",
    "        o.append(i)\n",
    "print(p)\n",
    "print(h+p)"
   ]
  },
  {
   "cell_type": "markdown",
   "metadata": {},
   "source": [
    "78.\tReplace each element of the array by its rank in the array "
   ]
  },
  {
   "cell_type": "code",
   "execution_count": 108,
   "metadata": {},
   "outputs": [
    {
     "name": "stdout",
     "output_type": "stream",
     "text": [
      "5 19 16 4 3\n",
      "{3: 1, 4: 2, 5: 3, 16: 4, 19: 5}\n",
      "[3, 5, 4, 2, 1]\n"
     ]
    }
   ],
   "source": [
    "l = list(map(int,input().split()))\n",
    "l2 = sorted(l)\n",
    "r = []\n",
    "d = dict()\n",
    "for i,j in enumerate(l2,1):\n",
    "    d[j]=i\n",
    "print(d)\n",
    "l1 = [d[i] for i in l]\n",
    "print(l1)"
   ]
  },
  {
   "cell_type": "markdown",
   "metadata": {},
   "source": [
    "\n",
    "79.\tFinding equilibrium index of an array "
   ]
  },
  {
   "cell_type": "code",
   "execution_count": 114,
   "metadata": {},
   "outputs": [
    {
     "name": "stdout",
     "output_type": "stream",
     "text": [
      "-4 3 0 2 -7 1 5\n",
      "3\n"
     ]
    }
   ],
   "source": [
    "l = list(map(int,input().split()))\n",
    "for i in range(1,len(l)):\n",
    "    if sum(l[0:i])==sum(l[i+1:]):\n",
    "        print(i) "
   ]
  },
  {
   "cell_type": "markdown",
   "metadata": {},
   "source": [
    "80.\tRotation of elements of array- left and right \n"
   ]
  },
  {
   "cell_type": "code",
   "execution_count": 124,
   "metadata": {},
   "outputs": [
    {
     "name": "stdout",
     "output_type": "stream",
     "text": [
      "10 20 50 40 60\n",
      "[10, 20, 50, 40, 60]\n",
      "3\n",
      "[50, 40, 60, 10, 20]\n"
     ]
    }
   ],
   "source": [
    "l = list(map(int,input().split()))\n",
    "print(l)\n",
    "n = int(input())\n",
    "for i in range(n):\n",
    "    x = l.pop()\n",
    "    l.insert(0,x)\n",
    "print(l)"
   ]
  },
  {
   "cell_type": "markdown",
   "metadata": {},
   "source": [
    "81.\tBlock swap algorithm for array rotation \n"
   ]
  },
  {
   "cell_type": "code",
   "execution_count": 128,
   "metadata": {},
   "outputs": [
    {
     "name": "stdout",
     "output_type": "stream",
     "text": [
      "ENTER ARRAY ELEMENTS 10 20 30 40 50 60\n",
      "Array Elements before rotation : \n",
      "10 20 30 40 50 60\n",
      "\n",
      "Array Elements after rotation : \n",
      "30 40 50 60 10 20\n"
     ]
    }
   ],
   "source": []
  },
  {
   "cell_type": "markdown",
   "metadata": {},
   "source": [
    "82.\tJuggling algorithm for array rotation \n"
   ]
  },
  {
   "cell_type": "code",
   "execution_count": 129,
   "metadata": {},
   "outputs": [
    {
     "name": "stdout",
     "output_type": "stream",
     "text": [
      "ENTER ARRAY ELEMENTS 10 20 30 40 50 60\n",
      "Array Elements before rotation : \n",
      "10 20 30 40 50 60\n",
      "\n",
      "Array Elements after rotation : \n",
      "30 40 50 60 10 20\n"
     ]
    }
   ],
   "source": [
    "import math\n",
    "def leftRotate(arr, d, n): \n",
    "     for i in range(math.gcd(d, n)): \n",
    "         temp = arr[i] \n",
    "         j = i \n",
    "         while 1: \n",
    "             k = j + d \n",
    "             if k >= n:\n",
    "                 k = k - n \n",
    "             if k == i: \n",
    "                 break\n",
    "             arr[j] = arr[k] \n",
    "             j = k \n",
    "             arr[j] = temp  \n",
    "arr =list(map(int,input(\"ENTER ARRAY ELEMENTS \").split()))\n",
    "n = len(arr)\n",
    "no_of_rotations = 2\n",
    "\n",
    "print(\"Array Elements before rotation : \")\n",
    "print(*arr) \n",
    "leftRotate(arr, no_of_rotations, n )\n",
    "print(\"\\nArray Elements after rotation : \")\n",
    "print(*arr)"
   ]
  },
  {
   "cell_type": "markdown",
   "metadata": {},
   "source": [
    "83.\tFinding Circular rotation of an array by K positions  \n"
   ]
  },
  {
   "cell_type": "code",
   "execution_count": 4,
   "metadata": {},
   "outputs": [
    {
     "name": "stdout",
     "output_type": "stream",
     "text": [
      "1 2 5 35\n",
      "5\n",
      "Array  [1, 2, 5, 35]\n",
      "Array after rotation [1, 2, 5, 35]\n"
     ]
    }
   ],
   "source": [
    "l=list(map(int,input().split()))\n",
    "n=int(input()) #no of rotations\n",
    "print(\"Array \",l)\n",
    "n=n%len(l)\n",
    "for i in range(n):\n",
    "    x=a.pop(-1)\n",
    "    a.insert(0,x)\n",
    "print(\"Array after rotation\",l)"
   ]
  },
  {
   "cell_type": "markdown",
   "metadata": {},
   "source": [
    "# You can find the below Programs in all languages"
   ]
  },
  {
   "cell_type": "markdown",
   "metadata": {},
   "source": [
    "84.\tProgram for Pyramid star pattern\n"
   ]
  },
  {
   "cell_type": "code",
   "execution_count": 15,
   "metadata": {},
   "outputs": [
    {
     "name": "stdout",
     "output_type": "stream",
     "text": [
      "10\n",
      "          *\n",
      "         ***\n",
      "        *****\n",
      "       *******\n",
      "      *********\n",
      "     ***********\n",
      "    *************\n",
      "   ***************\n",
      "  *****************\n",
      " *******************\n"
     ]
    }
   ],
   "source": [
    "n = int(input())\n",
    "for i in range(0,n):\n",
    "    print(' '*(n-1-i),'*'*(2*i+1))"
   ]
  },
  {
   "cell_type": "markdown",
   "metadata": {},
   "source": [
    "85.\tProgram for Pyramid number pattern\n"
   ]
  },
  {
   "cell_type": "code",
   "execution_count": 19,
   "metadata": {},
   "outputs": [
    {
     "name": "stdout",
     "output_type": "stream",
     "text": [
      "9\n",
      "         1\n",
      "        222\n",
      "       33333\n",
      "      4444444\n",
      "     555555555\n",
      "    66666666666\n",
      "   7777777777777\n",
      "  888888888888888\n",
      " 99999999999999999\n"
     ]
    }
   ],
   "source": [
    "n = int(input())\n",
    "for i in range(0,n):\n",
    "    print(' '*(n-1-i),str((i+1))*(2*i+1))"
   ]
  },
  {
   "cell_type": "markdown",
   "metadata": {},
   "source": [
    "86.\tProgram for Palindromic Pyramid Pattern – \n"
   ]
  },
  {
   "cell_type": "code",
   "execution_count": 46,
   "metadata": {},
   "outputs": [
    {
     "name": "stdout",
     "output_type": "stream",
     "text": [
      "5\n",
      "            \n",
      "          1 \n",
      "        1 2 1 \n",
      "      1 2 3 2 1 \n",
      "    1 2 3 4 3 2 1 \n",
      "  1 2 3 4 5 4 3 2 1 \n"
     ]
    }
   ],
   "source": [
    "n = int(input())\n",
    "for i in range(0,n+1):\n",
    "    for j in range(i,n+1):\n",
    "        print(\" \",end=\" \")\n",
    "    for j in range(1,i+1):\n",
    "        print(j,end=\" \")\n",
    "    for j in range(i-1,0,-1):\n",
    "        print(j,end=\" \")\n",
    "    print()"
   ]
  },
  {
   "cell_type": "markdown",
   "metadata": {},
   "source": [
    "87.\tProgram for Diamond star pattern\n"
   ]
  },
  {
   "cell_type": "code",
   "execution_count": 40,
   "metadata": {},
   "outputs": [
    {
     "name": "stdout",
     "output_type": "stream",
     "text": [
      "5\n",
      "     0\n",
      "    111\n",
      "   22222\n",
      "  3333333\n",
      " 444444444\n",
      "  3333333\n",
      "   22222\n",
      "    111\n",
      "     0\n"
     ]
    }
   ],
   "source": [
    "n = int(input())\n",
    "for i in range(0,n):\n",
    "    print(' '*(n-1-i),'*'*(2*i+1))\n",
    "for i in range(0,n-1):\n",
    "    #print(' '*(n-1-i),'*'*(2*i+1))\n",
    "    print(' '*(i+1),'*'*(2*(n-i-2)+1))\n"
   ]
  },
  {
   "cell_type": "markdown",
   "metadata": {},
   "source": [
    "88.\tProgram for Diamond number pattern\n"
   ]
  },
  {
   "cell_type": "code",
   "execution_count": 42,
   "metadata": {},
   "outputs": [
    {
     "name": "stdout",
     "output_type": "stream",
     "text": [
      "5\n",
      "     0\n",
      "    111\n",
      "   22222\n",
      "  3333333\n",
      " 444444444\n",
      "  3333333\n",
      "   22222\n",
      "    111\n",
      "     0\n"
     ]
    }
   ],
   "source": [
    "\n",
    "n = int(input())\n",
    "for i in range(0,n):\n",
    "    print(' '*(n-1-i),str(i)*(2*i+1))\n",
    "for i in range(0,n-1):\n",
    "    #print(' '*(n-1-i),'*'*(2*i+1))\n",
    "    print(' '*(i+1),str(n-i-2)*(2*(n-i-2)+1))"
   ]
  },
  {
   "cell_type": "markdown",
   "metadata": {},
   "source": [
    "89.\tProgram for Floyd’s Trianlge – "
   ]
  },
  {
   "cell_type": "code",
   "execution_count": 66,
   "metadata": {},
   "outputs": [
    {
     "name": "stdout",
     "output_type": "stream",
     "text": [
      "10\n",
      "1\n",
      "2,3\n",
      "4,5,6\n",
      "7,8,9,10\n",
      "11,12,13,14,15\n",
      "16,17,18,19,20,21\n",
      "22,23,24,25,26,27,28\n",
      "29,30,31,32,33,34,35,36\n",
      "37,38,39,40,41,42,43,44,45\n"
     ]
    }
   ],
   "source": [
    "n = int(input())\n",
    "k = 1\n",
    "for i in range(1,n):\n",
    "    print(\",\".join(str(i) for i in range(k,k+i)))\n",
    "    k = k+i"
   ]
  },
  {
   "cell_type": "markdown",
   "metadata": {},
   "source": [
    "\n",
    "90.\tProgram for Pascal triangle "
   ]
  },
  {
   "cell_type": "code",
   "execution_count": 68,
   "metadata": {},
   "outputs": [
    {
     "name": "stdout",
     "output_type": "stream",
     "text": [
      "10\n",
      "                     1\n",
      "                   1   1\n",
      "                 1   2   1\n",
      "               1   3   3   1\n",
      "             1   4   6   4   1\n",
      "           1   5   10   10   5   1\n",
      "         1   6   15   20   15   6   1\n",
      "       1   7   21   35   35   21   7   1\n",
      "     1   8   28   56   70   56   28   8   1\n",
      "   1   9   36   84   126   126   84   36   9   1\n"
     ]
    }
   ],
   "source": [
    "n = int(input())\n",
    "for i in range(0,n):\n",
    "    l = 1\n",
    "    for j in range(1,n-i):\n",
    "        print(\"  \", end=\"\")\n",
    "    for k in range(0, i+1):\n",
    "        print(\"  \", l, end=\"\")\n",
    "        l = int(l*(i - k)/(k + 1))\n",
    "    print()"
   ]
  },
  {
   "cell_type": "markdown",
   "metadata": {},
   "source": [
    "91.\tProgram to Check array similarity\n"
   ]
  },
  {
   "cell_type": "code",
   "execution_count": 49,
   "metadata": {},
   "outputs": [
    {
     "name": "stdout",
     "output_type": "stream",
     "text": [
      "1 2 3\n",
      "1 3 2\n",
      "similar arrays\n"
     ]
    }
   ],
   "source": [
    "l1=[int(i) for i in input().split(' ')]\n",
    "l2=[int(i) for i in input().split(' ')]\n",
    "if l1.sort()==l2.sort():\n",
    "    print('similar arrays')\n",
    "else:\n",
    "    print('not similar')"
   ]
  },
  {
   "cell_type": "markdown",
   "metadata": {},
   "source": [
    "92.\tProgram for Square sum\n"
   ]
  },
  {
   "cell_type": "code",
   "execution_count": 48,
   "metadata": {},
   "outputs": [
    {
     "name": "stdout",
     "output_type": "stream",
     "text": [
      "2 5 10\n",
      "129\n"
     ]
    }
   ],
   "source": [
    "l=[int(i) for i in input().split(' ')]\n",
    "s=0\n",
    "for i in l:\n",
    "    s+=i*i \n",
    "print(s)"
   ]
  },
  {
   "cell_type": "markdown",
   "metadata": {},
   "source": [
    "93.\tProgram for Longest palindrome in the array\n"
   ]
  },
  {
   "cell_type": "code",
   "execution_count": 47,
   "metadata": {},
   "outputs": [
    {
     "name": "stdout",
     "output_type": "stream",
     "text": [
      "2222222 121 55255 444222444\n",
      "444222444\n"
     ]
    }
   ],
   "source": [
    "n = [i for i in input().split()]\n",
    "l=[]\n",
    "d = dict()\n",
    "for i in n:\n",
    "    if i==i[::-1]:\n",
    "        l.append(i)\n",
    "bigger = '1'\n",
    "for i in l:\n",
    "    if len(i)==len(bigger):\n",
    "        bigger = max(int(i),int(bigger))\n",
    "    elif len(i)>len(bigger):\n",
    "        bigger = i\n",
    "print(bigger)"
   ]
  },
  {
   "cell_type": "markdown",
   "metadata": {},
   "source": [
    "# Operations on Strings"
   ]
  },
  {
   "cell_type": "markdown",
   "metadata": {},
   "source": [
    "94.\tLength of the string without using strlen() function  \n"
   ]
  },
  {
   "cell_type": "code",
   "execution_count": 20,
   "metadata": {},
   "outputs": [
    {
     "name": "stdout",
     "output_type": "stream",
     "text": [
      "suresh\n",
      "6\n"
     ]
    }
   ],
   "source": [
    "l = input()\n",
    "c=0\n",
    "for i in l:\n",
    "    c = c+1\n",
    "print(c)"
   ]
  },
  {
   "cell_type": "markdown",
   "metadata": {},
   "source": [
    "95.\tToggle each character in a string "
   ]
  },
  {
   "cell_type": "code",
   "execution_count": null,
   "metadata": {},
   "outputs": [],
   "source": []
  },
  {
   "cell_type": "markdown",
   "metadata": {},
   "source": [
    "96.\tCount the number of vowels "
   ]
  },
  {
   "cell_type": "code",
   "execution_count": 21,
   "metadata": {},
   "outputs": [
    {
     "name": "stdout",
     "output_type": "stream",
     "text": [
      "sxbnjuytrfvbjuy\n",
      "2\n"
     ]
    }
   ],
   "source": [
    "vowels = ['a','e','i','o','u','A','E','I','O','U']\n",
    "l = input()\n",
    "c=0\n",
    "for i in l:\n",
    "    if i in vowels:\n",
    "        c=c+1\n",
    "print(c)"
   ]
  },
  {
   "cell_type": "markdown",
   "metadata": {},
   "source": [
    "97.\tRemove the vowels from a String \n"
   ]
  },
  {
   "cell_type": "code",
   "execution_count": 25,
   "metadata": {},
   "outputs": [
    {
     "name": "stdout",
     "output_type": "stream",
     "text": [
      "ramesh\n",
      "rmsh\n"
     ]
    }
   ],
   "source": [
    "vowels = ['a','e','i','o','u','A','E','I','O','U']\n",
    "print(''.join(i for i in input() if i not in vowels))"
   ]
  },
  {
   "cell_type": "markdown",
   "metadata": {},
   "source": [
    "98.\tCheck if the given string is Palindrome or not \n"
   ]
  },
  {
   "cell_type": "code",
   "execution_count": 29,
   "metadata": {},
   "outputs": [
    {
     "name": "stdout",
     "output_type": "stream",
     "text": [
      "viviv\n",
      "Palindrome\n"
     ]
    }
   ],
   "source": [
    "n = input()\n",
    "if n == n[::-1]:\n",
    "    print('Palindrome')\n",
    "else:\n",
    "    print('Not')"
   ]
  },
  {
   "cell_type": "markdown",
   "metadata": {},
   "source": [
    "99.\tPrint the given string in reverse order \n"
   ]
  },
  {
   "cell_type": "code",
   "execution_count": 31,
   "metadata": {},
   "outputs": [
    {
     "name": "stdout",
     "output_type": "stream",
     "text": [
      "andhra\n",
      "arhdna\n"
     ]
    }
   ],
   "source": [
    "print(input()[::-1])"
   ]
  },
  {
   "cell_type": "markdown",
   "metadata": {},
   "source": [
    "100.Remove all characters from string except alphabets  \n"
   ]
  },
  {
   "cell_type": "code",
   "execution_count": 55,
   "metadata": {},
   "outputs": [
    {
     "name": "stdout",
     "output_type": "stream",
     "text": [
      "I love U but not IN 143 with $$$$\n",
      "IloveUbutnotINwith\n"
     ]
    }
   ],
   "source": [
    "def alp(n):\n",
    "    if (65<=ord(n)<=97) or (97<=ord(n)<=122):\n",
    "        return n\n",
    "print(''.join(i for i in input() if alp(i)))"
   ]
  },
  {
   "cell_type": "markdown",
   "metadata": {},
   "source": [
    "101.Remove spaces from a string \n"
   ]
  },
  {
   "cell_type": "code",
   "execution_count": 54,
   "metadata": {},
   "outputs": [
    {
     "name": "stdout",
     "output_type": "stream",
     "text": [
      "i hello y r u waiting darling\n",
      "ihelloyruwaitingdarling\n"
     ]
    }
   ],
   "source": [
    "print(''.join(i for i in input() if i!=' '))"
   ]
  },
  {
   "cell_type": "markdown",
   "metadata": {},
   "source": [
    "102.Remove brackets from an algebraic expression \n"
   ]
  },
  {
   "cell_type": "code",
   "execution_count": 57,
   "metadata": {},
   "outputs": [
    {
     "name": "stdout",
     "output_type": "stream",
     "text": [
      "X^3+(2*x)+{45}\n",
      "X^3+2*x+45\n"
     ]
    }
   ],
   "source": [
    "l = ['{','}','[',']','(',')','<','>']\n",
    "print(''.join(i for i in input() if i not in l))"
   ]
  },
  {
   "cell_type": "markdown",
   "metadata": {},
   "source": [
    "103.Count the sum of numbers in a string \n"
   ]
  },
  {
   "cell_type": "code",
   "execution_count": 60,
   "metadata": {},
   "outputs": [
    {
     "name": "stdout",
     "output_type": "stream",
     "text": [
      "Mahesh143\n",
      "8\n"
     ]
    }
   ],
   "source": [
    "l = [int(i) for i in input() if i.isnumeric()]\n",
    "print(sum(l))"
   ]
  },
  {
   "cell_type": "markdown",
   "metadata": {},
   "source": [
    "104.Capitalize the first and last character of each word of a string  \n"
   ]
  },
  {
   "cell_type": "code",
   "execution_count": 68,
   "metadata": {},
   "outputs": [
    {
     "name": "stdout",
     "output_type": "stream",
     "text": [
      "itachi\n",
      "ItachI\n"
     ]
    }
   ],
   "source": [
    "s = input()\n",
    "print(s[0].upper()+s[1:len(s)-1]+s[-1].upper())"
   ]
  },
  {
   "cell_type": "markdown",
   "metadata": {},
   "source": [
    "105.Calculate frequency of characters in a string \n"
   ]
  },
  {
   "cell_type": "code",
   "execution_count": 72,
   "metadata": {},
   "outputs": [
    {
     "name": "stdout",
     "output_type": "stream",
     "text": [
      "Minato Namekaze\n",
      "{'M': 1, 'i': 1, 'n': 1, 'a': 3, 't': 1, 'o': 1, ' ': 1, 'N': 1, 'm': 1, 'e': 2, 'k': 1, 'z': 1}\n"
     ]
    }
   ],
   "source": [
    "l = [i for i in input()]\n",
    "k = set(l)\n",
    "h = []\n",
    "d = dict()\n",
    "for i in l:\n",
    "    if i not in h:\n",
    "        d[i]=l.count(i)\n",
    "        h.append(i)\n",
    "print(d)\n",
    "# for i in k:\n",
    "#     d[i]=l.count(i)"
   ]
  },
  {
   "cell_type": "markdown",
   "metadata": {},
   "source": [
    "106.Find non-repeating characters in a string \n"
   ]
  },
  {
   "cell_type": "code",
   "execution_count": 73,
   "metadata": {},
   "outputs": [
    {
     "name": "stdout",
     "output_type": "stream",
     "text": [
      "hare rama hare hare\n",
      "m\n"
     ]
    }
   ],
   "source": [
    "l = input()\n",
    "print(''.join(i for i in l if l.count(i)==1))"
   ]
  },
  {
   "cell_type": "markdown",
   "metadata": {},
   "source": [
    "107.Check if two strings are Anagram or not \n"
   ]
  },
  {
   "cell_type": "code",
   "execution_count": 5,
   "metadata": {},
   "outputs": [
    {
     "name": "stdout",
     "output_type": "stream",
     "text": [
      "itachi\n",
      "chiati\n",
      "anagrams\n"
     ]
    }
   ],
   "source": [
    "s1 = input()\n",
    "s2 = input()\n",
    "if sorted(s1)==sorted(s2):\n",
    "    print('anagrams')"
   ]
  },
  {
   "cell_type": "markdown",
   "metadata": {},
   "source": [
    "108.Replace a sub-string in a string\n"
   ]
  },
  {
   "cell_type": "code",
   "execution_count": 7,
   "metadata": {},
   "outputs": [
    {
     "name": "stdout",
     "output_type": "stream",
     "text": [
      "I love you\n",
      "love\n",
      "hate\n",
      "I hate you\n"
     ]
    }
   ],
   "source": [
    "string = input()\n",
    "s=input()\n",
    "s1=input()\n",
    "print(string.replace(s,s1))\n"
   ]
  },
  {
   "cell_type": "markdown",
   "metadata": {},
   "source": [
    "109.Count common sub-sequence in two strings \n"
   ]
  },
  {
   "cell_type": "code",
   "execution_count": 6,
   "metadata": {},
   "outputs": [
    {
     "name": "stdout",
     "output_type": "stream",
     "text": [
      "abdc\n",
      "abd\n",
      "['a', 'b', 'd']\n",
      "['abd', 'b', 'd', 'ab', 'a', 'bd']\n",
      "6\n"
     ]
    }
   ],
   "source": [
    "s = input()\n",
    "s1=input()\n",
    "l=[]\n",
    "d=[]\n",
    "c=0\n",
    "for i in range(0,len(s1)):\n",
    "    for j in range(1,len(s1)):\n",
    "        k = s1[i:i+j+1]\n",
    "        l.append(k)\n",
    "h = list(s1)\n",
    "l = l+h\n",
    "l = list(set(l))\n",
    "for i in l:\n",
    "    if i in s:\n",
    "        d.append(i)\n",
    "        c+=1\n",
    "        \n",
    "print(h)\n",
    "print(l)\n",
    "print(c)"
   ]
  }
 ],
 "metadata": {
  "kernelspec": {
   "display_name": "Python 3",
   "language": "python",
   "name": "python3"
  },
  "language_info": {
   "codemirror_mode": {
    "name": "ipython",
    "version": 3
   },
   "file_extension": ".py",
   "mimetype": "text/x-python",
   "name": "python",
   "nbconvert_exporter": "python",
   "pygments_lexer": "ipython3",
   "version": "3.7.4"
  }
 },
 "nbformat": 4,
 "nbformat_minor": 2
}
